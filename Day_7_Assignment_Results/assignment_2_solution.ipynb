{
  "cells": [
    {
      "cell_type": "markdown",
      "metadata": {},
      "source": [
        "# Assignment 2 Solution: Advanced RAG Techniques\n",
        "## Day 6 Session 2 - Advanced RAG Fundamentals\n",
        "\n",
        "This notebook contains the complete solution for Assignment 2.\n",
        "\n",
        "**Solution covers:**\n",
        "- Node postprocessors for filtering and reranking\n",
        "- Response synthesizers (TreeSummarize, Refine)\n",
        "- Structured outputs with Pydantic models\n",
        "- Advanced RAG pipelines combining multiple techniques\n"
      ]
    },
    {
      "cell_type": "code",
      "execution_count": 1,
      "metadata": {},
      "outputs": [
        {
          "name": "stderr",
          "output_type": "stream",
          "text": [
            "/Users/ishandutta/miniconda3/envs/accelerator/lib/python3.11/site-packages/tqdm/auto.py:21: TqdmWarning: IProgress not found. Please update jupyter and ipywidgets. See https://ipywidgets.readthedocs.io/en/stable/user_install.html\n",
            "  from .autonotebook import tqdm as notebook_tqdm\n"
          ]
        },
        {
          "name": "stdout",
          "output_type": "stream",
          "text": [
            "✅ Advanced RAG libraries imported successfully!\n"
          ]
        }
      ],
      "source": [
        "# Import required libraries for advanced RAG\n",
        "import os\n",
        "from pathlib import Path\n",
        "from typing import Dict, List, Optional, Any\n",
        "from pydantic import BaseModel, Field\n",
        "\n",
        "# Core LlamaIndex components\n",
        "from llama_index.core import SimpleDirectoryReader, VectorStoreIndex, StorageContext, Settings\n",
        "from llama_index.core.query_engine import RetrieverQueryEngine\n",
        "from llama_index.core.retrievers import VectorIndexRetriever\n",
        "\n",
        "# Vector store\n",
        "from llama_index.vector_stores.lancedb import LanceDBVectorStore\n",
        "\n",
        "# Embeddings and LLM\n",
        "from llama_index.embeddings.huggingface import HuggingFaceEmbedding\n",
        "from llama_index.llms.openrouter import OpenRouter\n",
        "\n",
        "# Advanced RAG components\n",
        "from llama_index.core.postprocessor import SimilarityPostprocessor\n",
        "from llama_index.core.response_synthesizers import TreeSummarize, Refine, CompactAndRefine\n",
        "from llama_index.core.output_parsers import PydanticOutputParser\n",
        "\n",
        "print(\"✅ Advanced RAG libraries imported successfully!\")\n"
      ]
    },
    {
      "cell_type": "code",
      "execution_count": 2,
      "metadata": {},
      "outputs": [
        {
          "name": "stdout",
          "output_type": "stream",
          "text": [
            "✅ OPENROUTER_API_KEY found - full advanced RAG functionality available\n",
            "✅ Advanced RAG settings configured\n"
          ]
        }
      ],
      "source": [
        "# Configure Advanced RAG Settings (Using OpenRouter)\n",
        "def setup_advanced_rag_settings():\n",
        "    \"\"\"Configure LlamaIndex with optimized settings for advanced RAG.\"\"\"\n",
        "    api_key = os.getenv(\"OPENROUTER_API_KEY\")\n",
        "    if not api_key:\n",
        "        print(\"⚠️  OPENROUTER_API_KEY not found - LLM operations will be limited\")\n",
        "    else:\n",
        "        print(\"✅ OPENROUTER_API_KEY found - full advanced RAG functionality available\")\n",
        "        Settings.llm = OpenRouter(\n",
        "            api_key=api_key,\n",
        "            model=\"gpt-4o-mini\",\n",
        "            temperature=0.1\n",
        "        )\n",
        "    \n",
        "    Settings.embed_model = HuggingFaceEmbedding(\n",
        "        model_name=\"BAAI/bge-small-en-v1.5\",\n",
        "        trust_remote_code=True\n",
        "    )\n",
        "    Settings.chunk_size = 512\n",
        "    Settings.chunk_overlap = 50\n",
        "    \n",
        "    print(\"✅ Advanced RAG settings configured\")\n",
        "\n",
        "setup_advanced_rag_settings()\n"
      ]
    },
    {
      "cell_type": "code",
      "execution_count": 3,
      "metadata": {},
      "outputs": [
        {
          "name": "stderr",
          "output_type": "stream",
          "text": [
            "Table documents doesn't exist yet. Please add some data to create it.\n",
            "/Users/ishandutta/miniconda3/envs/accelerator/lib/python3.11/site-packages/whisper/transcribe.py:132: UserWarning: FP16 is not supported on CPU; using FP32 instead\n",
            "  warnings.warn(\"FP16 is not supported on CPU; using FP32 instead\")\n",
            "/Users/ishandutta/miniconda3/envs/accelerator/lib/python3.11/site-packages/whisper/transcribe.py:132: UserWarning: FP16 is not supported on CPU; using FP32 instead\n",
            "  warnings.warn(\"FP16 is not supported on CPU; using FP32 instead\")\n",
            "/Users/ishandutta/miniconda3/envs/accelerator/lib/python3.11/site-packages/whisper/transcribe.py:132: UserWarning: FP16 is not supported on CPU; using FP32 instead\n",
            "  warnings.warn(\"FP16 is not supported on CPU; using FP32 instead\")\n",
            "Parsing nodes: 100%|██████████| 42/42 [00:00<00:00, 151.85it/s]\n",
            "Generating embeddings: 100%|██████████| 94/94 [00:05<00:00, 16.22it/s]\n",
            "2025-09-21 09:33:18,639 - INFO - Create new table documents adding data.\n"
          ]
        },
        {
          "name": "stdout",
          "output_type": "stream",
          "text": [
            "✅ Basic index created with 42 documents\n",
            "🚀 Ready for advanced RAG techniques!\n"
          ]
        },
        {
          "name": "stderr",
          "output_type": "stream",
          "text": [
            "\u001b[90m[\u001b[0m2025-09-21T04:03:18Z \u001b[33mWARN \u001b[0m lance::dataset::write::insert\u001b[90m]\u001b[0m No existing dataset at /Users/ishandutta/Documents/code/ai-accelerator/Day_6/session_2/solutions/advanced_rag_vectordb/documents.lance, it will be created\n"
          ]
        }
      ],
      "source": [
        "# Setup: Create index (reusing Assignment 1 concepts)\n",
        "def setup_basic_index(data_folder: str = \"../data\"):\n",
        "    \"\"\"Create a basic vector index for advanced RAG demonstrations.\"\"\"\n",
        "    vector_store = LanceDBVectorStore(\n",
        "        uri=\"./advanced_rag_vectordb\",\n",
        "        table_name=\"documents\"\n",
        "    )\n",
        "    \n",
        "    if not Path(data_folder).exists():\n",
        "        print(f\"❌ Data folder not found: {data_folder}\")\n",
        "        return None\n",
        "        \n",
        "    reader = SimpleDirectoryReader(input_dir=data_folder, recursive=True)\n",
        "    documents = reader.load_data()\n",
        "    \n",
        "    storage_context = StorageContext.from_defaults(vector_store=vector_store)\n",
        "    index = VectorStoreIndex.from_documents(\n",
        "        documents, \n",
        "        storage_context=storage_context,\n",
        "        show_progress=True\n",
        "    )\n",
        "    \n",
        "    print(f\"✅ Basic index created with {len(documents)} documents\")\n",
        "    return index\n",
        "\n",
        "# Create the basic index\n",
        "index = setup_basic_index()\n",
        "print(\"🚀 Ready for advanced RAG techniques!\")\n"
      ]
    },
    {
      "cell_type": "code",
      "execution_count": 4,
      "metadata": {},
      "outputs": [
        {
          "name": "stdout",
          "output_type": "stream",
          "text": [
            "✅ Query engine with similarity filtering created\n",
            "\n",
            "🔍 Testing query: 'What are the benefits of AI agents?'\n"
          ]
        },
        {
          "name": "stderr",
          "output_type": "stream",
          "text": [
            "2025-09-21 09:33:19,901 - INFO - query_type :, vector\n",
            "2025-09-21 09:33:22,229 - INFO - HTTP Request: POST https://openrouter.ai/api/v1/chat/completions \"HTTP/1.1 200 OK\"\n",
            "2025-09-21 09:33:25,195 - INFO - HTTP Request: POST https://openrouter.ai/api/v1/chat/completions \"HTTP/1.1 200 OK\"\n",
            "2025-09-21 09:33:28,504 - INFO - HTTP Request: POST https://openrouter.ai/api/v1/chat/completions \"HTTP/1.1 200 OK\"\n"
          ]
        },
        {
          "name": "stdout",
          "output_type": "stream",
          "text": [
            "📝 Filtered Response: AI agents provide numerous advantages, such as enhanced reasoning, planning, and execution capabilities for complex tasks. They can engage with external tools and data sources, facilitating the resolution of intricate problems that necessitate multi-step reasoning. Both single-agent and multi-agent systems show robust performance in achieving complex objectives, especially when they utilize clear feedback mechanisms, task decomposition, and iterative refinement. Furthermore, multi-agent systems benefit from collaboration among different agents, enabling parallel task execution and more adaptive problem-solving strategies. This adaptability significantly improves their overall effectiveness across a range of applications.\n"
          ]
        }
      ],
      "source": [
        "def create_query_engine_with_similarity_filter(index, similarity_cutoff: float = 0.3, top_k: int = 10):\n",
        "    \"\"\"Create a query engine that filters results based on similarity scores.\"\"\"\n",
        "    # Create similarity postprocessor with the cutoff threshold\n",
        "    similarity_processor = SimilarityPostprocessor(similarity_cutoff=similarity_cutoff)\n",
        "    \n",
        "    # Create query engine with similarity filtering\n",
        "    query_engine = index.as_query_engine(\n",
        "        similarity_top_k=top_k,\n",
        "        node_postprocessors=[similarity_processor]\n",
        "    )\n",
        "    return query_engine\n",
        "\n",
        "# Test the function\n",
        "filtered_engine = create_query_engine_with_similarity_filter(index, similarity_cutoff=0.3)\n",
        "print(\"✅ Query engine with similarity filtering created\")\n",
        "\n",
        "# Test query\n",
        "test_query = \"What are the benefits of AI agents?\"\n",
        "print(f\"\\n🔍 Testing query: '{test_query}'\")\n",
        "response = filtered_engine.query(test_query)\n",
        "print(f\"📝 Filtered Response: {response}\")\n"
      ]
    },
    {
      "cell_type": "code",
      "execution_count": 5,
      "metadata": {},
      "outputs": [
        {
          "name": "stdout",
          "output_type": "stream",
          "text": [
            "✅ Query engine with TreeSummarize created\n",
            "\n",
            "🔍 Testing analytical query: 'Compare the advantages and disadvantages of different AI agent frameworks'\n"
          ]
        },
        {
          "name": "stderr",
          "output_type": "stream",
          "text": [
            "2025-09-21 09:33:30,633 - INFO - query_type :, vector\n",
            "2025-09-21 09:33:31,867 - INFO - HTTP Request: POST https://openrouter.ai/api/v1/chat/completions \"HTTP/1.1 200 OK\"\n"
          ]
        },
        {
          "name": "stdout",
          "output_type": "stream",
          "text": [
            "📝 TreeSummarize Response:\n",
            "Different AI agent frameworks offer various advantages and disadvantages based on their design and intended use cases:\n",
            "\n",
            "1. **Autonomous Agents**:\n",
            "   - **AutoGPT**:\n",
            "     - *Advantages*: High capability for autonomous task execution, making it suitable for complex, independent operations.\n",
            "     - *Disadvantages*: Steep learning curve, which may be challenging for beginners.\n",
            "   - **BabyAGI**:\n",
            "     - *Advantages*: Simplified approach to autonomous AI, making it more accessible.\n",
            "     - *Disadvantages*: May lack the advanced features needed for more complex tasks.\n",
            "   - **AgentGPT**:\n",
            "     - *Advantages*: Web-based platform, which can enhance accessibility and ease of use.\n",
            "     - *Disadvantages*: Potential limitations in customization compared to more robust frameworks.\n",
            "\n",
            "2. **Tool-Using Agents**:\n",
            "   - **LangChain**:\n",
            "     - *Advantages*: Comprehensive framework for LLM applications, providing a versatile toolset.\n",
            "     - *Disadvantages*: Medium complexity may require some familiarity with AI concepts.\n",
            "   - **LlamaIndex**:\n",
            "     - *Advantages*: Specialized in document understanding and retrieval-augmented generation, making it effective for document-based tasks.\n",
            "     - *Disadvantages*: Lower complexity might limit its use in more advanced applications.\n",
            "   -\n"
          ]
        }
      ],
      "source": [
        "def create_query_engine_with_tree_summarize(index, top_k: int = 5):\n",
        "    \"\"\"Create a query engine that uses TreeSummarize for comprehensive responses.\"\"\"\n",
        "    # Create TreeSummarize response synthesizer\n",
        "    tree_synthesizer = TreeSummarize()\n",
        "    \n",
        "    # Create query engine with the synthesizer\n",
        "    query_engine = index.as_query_engine(\n",
        "        response_synthesizer=tree_synthesizer,\n",
        "        similarity_top_k=top_k\n",
        "    )\n",
        "    return query_engine\n",
        "\n",
        "# Test the function\n",
        "tree_engine = create_query_engine_with_tree_summarize(index)\n",
        "print(\"✅ Query engine with TreeSummarize created\")\n",
        "\n",
        "# Test with a complex analytical query\n",
        "analytical_query = \"Compare the advantages and disadvantages of different AI agent frameworks\"\n",
        "print(f\"\\n🔍 Testing analytical query: '{analytical_query}'\")\n",
        "response = tree_engine.query(analytical_query)\n",
        "print(f\"📝 TreeSummarize Response:\\n{response}\")\n"
      ]
    },
    {
      "cell_type": "code",
      "execution_count": 6,
      "metadata": {},
      "outputs": [
        {
          "name": "stdout",
          "output_type": "stream",
          "text": [
            "✅ Structured output program created\n",
            "\n",
            "🔍 Testing structured query: 'Tell me about AI agents and their capabilities'\n"
          ]
        },
        {
          "name": "stderr",
          "output_type": "stream",
          "text": [
            "2025-09-21 09:33:42,162 - INFO - query_type :, vector\n",
            "2025-09-21 09:33:43,474 - INFO - HTTP Request: POST https://openrouter.ai/api/v1/chat/completions \"HTTP/1.1 200 OK\"\n"
          ]
        },
        {
          "name": "stdout",
          "output_type": "stream",
          "text": [
            "📊 Structured Response:\n",
            "title='The Landscape of Emerging AI Agent Architectures for Reasoning, Planning, and Tool Calling: A Survey' key_points=['AI agents show enhanced capabilities in reasoning, planning, and tool execution.', 'Single-agent architectures perform well with defined personas and iterative feedback.', 'Multi-agent systems benefit from clear leadership, defined planning phases, and dynamic team composition.', 'Current agent evaluation benchmarks are inconsistent, complicating comparisons across implementations.', 'Addressing biases and improving reliability are critical for future AI agent development.'] applications=['Autonomous decision-making systems', 'Complex task execution in collaborative environments', 'Enhanced user interaction through intelligent agents', 'Dynamic team formation for specific problem-solving tasks'] summary='This survey explores advancements in AI agent architectures, highlighting their capabilities and limitations. It emphasizes the importance of structured evaluation and the need for improvements in agent design to enhance reliability and effectiveness.'\n",
            "\n",
            "💡 The response follows the ResearchPaperInfo model structure.\n"
          ]
        }
      ],
      "source": [
        "# Define the Pydantic models for structured outputs\n",
        "class ResearchPaperInfo(BaseModel):\n",
        "    \"\"\"Structured information about a research paper or AI concept.\"\"\"\n",
        "    title: str = Field(description=\"The main title or concept name\")\n",
        "    key_points: List[str] = Field(description=\"3-5 main points or findings\")\n",
        "    applications: List[str] = Field(description=\"Practical applications or use cases\")\n",
        "    summary: str = Field(description=\"Brief 2-3 sentence summary\")\n",
        "\n",
        "# Import the missing component\n",
        "from llama_index.core.program import LLMTextCompletionProgram\n",
        "\n",
        "def create_structured_output_program(output_model: BaseModel = ResearchPaperInfo):\n",
        "    \"\"\"Create a structured output program using Pydantic models.\"\"\"\n",
        "    # Create output parser with the Pydantic model\n",
        "    output_parser = PydanticOutputParser(output_model)\n",
        "    \n",
        "    # Create the structured output program\n",
        "    program = LLMTextCompletionProgram.from_defaults(\n",
        "        output_parser=output_parser,\n",
        "        prompt_template_str=(\n",
        "            \"Extract structured information from the following context:\\n\"\n",
        "            \"{context}\\n\\n\"\n",
        "            \"Question: {query}\\n\\n\"\n",
        "            \"Provide the information in the specified JSON format.\"\n",
        "        )\n",
        "    )\n",
        "    return program\n",
        "\n",
        "# Test the function\n",
        "structured_program = create_structured_output_program(ResearchPaperInfo)\n",
        "print(\"✅ Structured output program created\")\n",
        "\n",
        "# Test with retrieval and structured extraction\n",
        "structure_query = \"Tell me about AI agents and their capabilities\"\n",
        "print(f\"\\n🔍 Testing structured query: '{structure_query}'\")\n",
        "\n",
        "# Get context for structured extraction\n",
        "retriever = VectorIndexRetriever(index=index, similarity_top_k=3)\n",
        "nodes = retriever.retrieve(structure_query)\n",
        "context = \"\\n\".join([node.text for node in nodes])\n",
        "\n",
        "# Extract structured information\n",
        "response = structured_program(context=context, query=structure_query)\n",
        "print(f\"📊 Structured Response:\\n{response}\")\n",
        "\n",
        "print(\"\\n💡 The response follows the ResearchPaperInfo model structure.\")\n"
      ]
    },
    {
      "cell_type": "code",
      "execution_count": 7,
      "metadata": {},
      "outputs": [
        {
          "name": "stdout",
          "output_type": "stream",
          "text": [
            "✅ Advanced RAG pipeline created successfully!\n",
            "   🔧 Similarity filtering: ✅\n",
            "   🌳 TreeSummarize synthesis: ✅\n",
            "\n",
            "🔍 Testing complex query: 'Analyze the current state and future potential of AI agent technologies'\n"
          ]
        },
        {
          "name": "stderr",
          "output_type": "stream",
          "text": [
            "2025-09-21 09:33:47,449 - INFO - query_type :, vector\n",
            "2025-09-21 09:33:48,585 - INFO - HTTP Request: POST https://openrouter.ai/api/v1/chat/completions \"HTTP/1.1 200 OK\"\n",
            "2025-09-21 09:33:53,696 - INFO - HTTP Request: POST https://openrouter.ai/api/v1/chat/completions \"HTTP/1.1 200 OK\"\n",
            "2025-09-21 09:34:00,487 - INFO - HTTP Request: POST https://openrouter.ai/api/v1/chat/completions \"HTTP/1.1 200 OK\"\n"
          ]
        },
        {
          "name": "stdout",
          "output_type": "stream",
          "text": [
            "🚀 Advanced RAG Response:\n",
            "AI agent technologies are currently advancing significantly, particularly in their ability to achieve complex goals through improved reasoning, planning, and tool execution. Both single-agent and multi-agent systems have shown strong performance across various benchmarks and problem types. However, challenges remain, including the need for comprehensive evaluation benchmarks, real-world applicability, and addressing biases in language models.\n",
            "\n",
            "Looking to the future, there is substantial potential for AI agents, especially in enhancing reliability and addressing existing limitations. Key areas for improvement include the development of standardized evaluation metrics, robust integration with existing systems, and a focus on scalability and real-time performance. The financial sector, in particular, has seen specialized frameworks that have led to notable productivity gains, with multi-agent systems showing promise in complex tasks like algorithmic trading and fraud detection.\n",
            "\n",
            "The successful implementation of these technologies will require workforce upskilling, alignment with risk management practices, and adherence to regulatory standards. Future research is likely to focus on expanding the application of AI agents in areas such as wealth management, which could lead to innovative solutions. Transitioning from experimental to production-scale deployments will necessitate addressing operational risks and ensuring compliance with regulations.\n",
            "\n",
            "Collaboration among academia, industry, and open-source communities will be essential for realizing the full potential of AI agents. This collaborative effort can foster innovative solutions\n",
            "\n",
            "🎯 This provides:\n",
            "   - Filtered relevant results only\n",
            "   - Comprehensive analytical response\n",
            "   - Combined postprocessing and synthesis\n"
          ]
        }
      ],
      "source": [
        "def create_advanced_rag_pipeline(index, similarity_cutoff: float = 0.3, top_k: int = 10):\n",
        "    \"\"\"Create a comprehensive advanced RAG pipeline combining multiple techniques.\"\"\"\n",
        "    # Create similarity postprocessor\n",
        "    similarity_processor = SimilarityPostprocessor(similarity_cutoff=similarity_cutoff)\n",
        "    \n",
        "    # Create TreeSummarize for comprehensive responses\n",
        "    tree_synthesizer = TreeSummarize()\n",
        "    \n",
        "    # Create the comprehensive query engine combining both techniques\n",
        "    advanced_engine = index.as_query_engine(\n",
        "        response_synthesizer=tree_synthesizer,\n",
        "        node_postprocessors=[similarity_processor],\n",
        "        similarity_top_k=top_k\n",
        "    )\n",
        "    \n",
        "    return advanced_engine\n",
        "\n",
        "# Test the comprehensive pipeline\n",
        "advanced_pipeline = create_advanced_rag_pipeline(index)\n",
        "print(\"✅ Advanced RAG pipeline created successfully!\")\n",
        "print(\"   🔧 Similarity filtering: ✅\")\n",
        "print(\"   🌳 TreeSummarize synthesis: ✅\")\n",
        "\n",
        "# Test with complex query\n",
        "complex_query = \"Analyze the current state and future potential of AI agent technologies\"\n",
        "print(f\"\\n🔍 Testing complex query: '{complex_query}'\")\n",
        "response = advanced_pipeline.query(complex_query)\n",
        "print(f\"🚀 Advanced RAG Response:\\n{response}\")\n",
        "\n",
        "print(\"\\n🎯 This provides:\")\n",
        "print(\"   - Filtered relevant results only\")\n",
        "print(\"   - Comprehensive analytical response\")\n",
        "print(\"   - Combined postprocessing and synthesis\")\n"
      ]
    },
    {
      "cell_type": "code",
      "execution_count": 8,
      "metadata": {},
      "outputs": [
        {
          "name": "stdout",
          "output_type": "stream",
          "text": [
            "🚀 Advanced RAG Techniques - Complete Solution\n",
            "============================================================\n",
            "\n",
            "🆚 COMPARISON: Basic vs Advanced RAG\n",
            "============================================================\n",
            "\n",
            "📋 Test Query 1: 'What are the key capabilities of AI agents?'\n",
            "--------------------------------------------------\n",
            "🔹 Basic RAG:\n"
          ]
        },
        {
          "name": "stderr",
          "output_type": "stream",
          "text": [
            "2025-09-21 09:34:05,490 - INFO - query_type :, vector\n",
            "2025-09-21 09:34:06,938 - INFO - HTTP Request: POST https://openrouter.ai/api/v1/chat/completions \"HTTP/1.1 200 OK\"\n",
            "2025-09-21 09:34:09,959 - INFO - query_type :, vector\n"
          ]
        },
        {
          "name": "stdout",
          "output_type": "stream",
          "text": [
            "   Response: AI agents require several key capabilities to effectively solve real-world problems. These include:\n",
            "\n",
            "1. **Reasoning**: This is essential for making decisions, solving problems, and interacting with co...\n",
            "\n",
            "🔸 Advanced RAG:\n"
          ]
        },
        {
          "name": "stderr",
          "output_type": "stream",
          "text": [
            "2025-09-21 09:34:10,803 - INFO - HTTP Request: POST https://openrouter.ai/api/v1/chat/completions \"HTTP/1.1 200 OK\"\n",
            "2025-09-21 09:34:15,975 - INFO - HTTP Request: POST https://openrouter.ai/api/v1/chat/completions \"HTTP/1.1 200 OK\"\n",
            "2025-09-21 09:34:20,312 - INFO - HTTP Request: POST https://openrouter.ai/api/v1/chat/completions \"HTTP/1.1 200 OK\"\n"
          ]
        },
        {
          "name": "stdout",
          "output_type": "stream",
          "text": [
            "   Response: AI agents possess several key capabilities that enable them to effectively address real-world challenges. These include:\n",
            "\n",
            "1. **Reasoning**: They have strong reasoning abilities that allow them to make decisions, solve problems, and learn new tasks quickly, even in uncertain environments.\n",
            "\n",
            "2. **Planning**: Effective planning involves breaking down tasks into manageable sub-tasks and refining plans based on new information, enhancing their task execution.\n",
            "\n",
            "3. **Tool Calling**: AI agents can utilize multiple tools to interact with external environments, leveraging various functions and data sources to tackle complex problems.\n",
            "\n",
            "4. **Iterative Execution**: They follow a plan-act-evaluate process, allowing them to refine their approach based on feedback and results from previous actions.\n",
            "\n",
            "5. **Collaboration**: In multi-agent systems, they can work together, sharing information and tasks to enhance overall effectiveness, especially in scenarios requiring diverse skills.\n",
            "\n",
            "6. **Role Awareness**: Defined personas help them understand their purpose and tasks effectively.\n",
            "\n",
            "7. **Tool Utilization**: Access to various tools facilitates the retrieval and dissemination of information.\n",
            "\n",
            "8. **Advanced Problem Solving**: Integration with Large Language Models enables sophisticated analyses and decision-making, particularly in financial contexts.\n",
            "\n",
            "9. **Risk Management**: They are designed to manage risks effectively,\n",
            "\n",
            "📋 Test Query 2: 'How do you evaluate agent performance metrics?'\n",
            "--------------------------------------------------\n",
            "🔹 Basic RAG:\n"
          ]
        },
        {
          "name": "stderr",
          "output_type": "stream",
          "text": [
            "2025-09-21 09:34:25,080 - INFO - query_type :, vector\n",
            "2025-09-21 09:34:26,437 - INFO - HTTP Request: POST https://openrouter.ai/api/v1/chat/completions \"HTTP/1.1 200 OK\"\n",
            "2025-09-21 09:34:28,458 - INFO - query_type :, vector\n"
          ]
        },
        {
          "name": "stdout",
          "output_type": "stream",
          "text": [
            "   Response: Agent performance metrics can be evaluated using several key performance indicators (KPIs). These include:\n",
            "\n",
            "1. **Accuracy**: This measures the correctness of agent predictions and decisions in various...\n",
            "\n",
            "🔸 Advanced RAG:\n"
          ]
        },
        {
          "name": "stderr",
          "output_type": "stream",
          "text": [
            "2025-09-21 09:34:29,803 - INFO - HTTP Request: POST https://openrouter.ai/api/v1/chat/completions \"HTTP/1.1 200 OK\"\n",
            "2025-09-21 09:34:34,388 - INFO - HTTP Request: POST https://openrouter.ai/api/v1/chat/completions \"HTTP/1.1 200 OK\"\n",
            "2025-09-21 09:34:38,768 - INFO - HTTP Request: POST https://openrouter.ai/api/v1/chat/completions \"HTTP/1.1 200 OK\"\n"
          ]
        },
        {
          "name": "stdout",
          "output_type": "stream",
          "text": [
            "   Response: Agent performance metrics can be evaluated through a variety of key performance indicators (KPIs) that focus on different aspects of the agent's capabilities. Important metrics include:\n",
            "\n",
            "1. **Accuracy**: Assessing the correctness of the agent's predictions and decisions.\n",
            "2. **Efficiency**: Evaluating the speed and resource consumption in task completion.\n",
            "3. **Robustness**: Measuring the agent's ability to handle noisy or incomplete data and unexpected events.\n",
            "4. **Explainability**: Determining how well the agent's decisions can be justified.\n",
            "\n",
            "Objective evaluation metrics may involve success rates, similarity of outputs to human responses, and overall efficiency. More nuanced measures, such as the effectiveness of tool use and reliability in planning, are also significant but can be harder to quantify and may require expert evaluation.\n",
            "\n",
            "Regular monitoring and evaluation are essential for continuous improvement. This includes assessing reasoning abilities, communication effectiveness within teams, and the time taken to achieve goals. Benchmarks that require multi-step reasoning are particularly indicative of agent capabilities. \n",
            "\n",
            "The presence of a designated leader in agent teams can enhance performance by improving communication and task execution. Additionally, incorporating self-reflection and memory mechanisms can help agents retain context and learn from past interactions. Addressing challenges like hallucination is crucial for ensuring reliability. Overall,\n",
            "\n",
            "📋 Test Query 3: 'Explain the benefits and challenges of multimodal AI systems'\n",
            "--------------------------------------------------\n",
            "🔹 Basic RAG:\n"
          ]
        },
        {
          "name": "stderr",
          "output_type": "stream",
          "text": [
            "2025-09-21 09:34:43,623 - INFO - query_type :, vector\n",
            "2025-09-21 09:34:44,632 - INFO - HTTP Request: POST https://openrouter.ai/api/v1/chat/completions \"HTTP/1.1 200 OK\"\n",
            "2025-09-21 09:34:47,578 - INFO - query_type :, vector\n"
          ]
        },
        {
          "name": "stdout",
          "output_type": "stream",
          "text": [
            "   Response: The discussion primarily focuses on multi-agent architectures, which can be seen as a form of multimodal AI systems. The benefits of such architectures include the intelligent division of labor based ...\n",
            "\n",
            "🔸 Advanced RAG:\n"
          ]
        },
        {
          "name": "stderr",
          "output_type": "stream",
          "text": [
            "2025-09-21 09:34:49,030 - INFO - HTTP Request: POST https://openrouter.ai/api/v1/chat/completions \"HTTP/1.1 200 OK\"\n",
            "2025-09-21 09:34:52,159 - INFO - HTTP Request: POST https://openrouter.ai/api/v1/chat/completions \"HTTP/1.1 200 OK\"\n",
            "2025-09-21 09:34:57,643 - INFO - HTTP Request: POST https://openrouter.ai/api/v1/chat/completions \"HTTP/1.1 200 OK\"\n"
          ]
        },
        {
          "name": "stdout",
          "output_type": "stream",
          "text": [
            "   Response: Multimodal AI systems offer several benefits, including enhanced understanding by integrating various types of data, which leads to improved performance in tasks such as image captioning and video analysis. They also facilitate more natural and intuitive user interactions, allowing engagement through multiple channels like voice commands paired with visual feedback. Additionally, these systems have a broader application range, making them suitable for diverse fields such as healthcare, education, and entertainment.\n",
            "\n",
            "However, there are notable challenges associated with multimodal AI systems. The complexity of integrating data from different modalities necessitates sophisticated architectures and algorithms, complicating the development process. Data alignment issues can arise, making it difficult to ensure that information from various sources is interpretable and coherent, especially when dealing with different structures and formats. Furthermore, these systems often require increased computational resources for processing and training, which can pose a barrier to deployment in environments with limited resources.\n",
            "\n",
            "============================================================\n",
            "🎉 Advanced RAG Solution Complete!\n",
            "   ✅ Node postprocessors for result filtering\n",
            "   ✅ Response synthesizers for better answers\n",
            "   ✅ Structured outputs for reliable data\n",
            "   ✅ Advanced pipelines combining all techniques\n",
            "\n",
            "🚀 Key Benefits Demonstrated:\n",
            "   - Better precision through similarity filtering\n",
            "   - Comprehensive analysis with TreeSummarize\n",
            "   - Reliable structured outputs for integration\n",
            "   - Production-ready advanced RAG systems\n"
          ]
        }
      ],
      "source": [
        "# Final demonstration: Advanced RAG Techniques\n",
        "print(\"🚀 Advanced RAG Techniques - Complete Solution\")\n",
        "print(\"=\" * 60)\n",
        "\n",
        "# Test queries for comparison\n",
        "test_queries = [\n",
        "    \"What are the key capabilities of AI agents?\",\n",
        "    \"How do you evaluate agent performance metrics?\",\n",
        "    \"Explain the benefits and challenges of multimodal AI systems\"\n",
        "]\n",
        "\n",
        "# Create basic query engine for comparison\n",
        "basic_engine = index.as_query_engine(similarity_top_k=5)\n",
        "\n",
        "print(\"\\n🆚 COMPARISON: Basic vs Advanced RAG\")\n",
        "print(\"=\" * 60)\n",
        "\n",
        "for i, query in enumerate(test_queries, 1):\n",
        "    print(f\"\\n📋 Test Query {i}: '{query}'\")\n",
        "    print(\"-\" * 50)\n",
        "    \n",
        "    # Basic RAG\n",
        "    print(\"🔹 Basic RAG:\")\n",
        "    basic_response = basic_engine.query(query)\n",
        "    print(f\"   Response: {str(basic_response)[:200]}...\")\n",
        "    \n",
        "    # Advanced RAG\n",
        "    print(\"\\n🔸 Advanced RAG:\")\n",
        "    advanced_response = advanced_pipeline.query(query)\n",
        "    print(f\"   Response: {advanced_response}\")\n",
        "\n",
        "print(\"\\n\" + \"=\" * 60)\n",
        "print(\"🎉 Advanced RAG Solution Complete!\")\n",
        "print(\"   ✅ Node postprocessors for result filtering\")\n",
        "print(\"   ✅ Response synthesizers for better answers\")\n",
        "print(\"   ✅ Structured outputs for reliable data\")\n",
        "print(\"   ✅ Advanced pipelines combining all techniques\")\n",
        "\n",
        "print(\"\\n🚀 Key Benefits Demonstrated:\")\n",
        "print(\"   - Better precision through similarity filtering\")\n",
        "print(\"   - Comprehensive analysis with TreeSummarize\")\n",
        "print(\"   - Reliable structured outputs for integration\")\n",
        "print(\"   - Production-ready advanced RAG systems\")\n"
      ]
    }
  ],
  "metadata": {
    "kernelspec": {
      "display_name": "accelerator",
      "language": "python",
      "name": "python3"
    },
    "language_info": {
      "codemirror_mode": {
        "name": "ipython",
        "version": 3
      },
      "file_extension": ".py",
      "mimetype": "text/x-python",
      "name": "python",
      "nbconvert_exporter": "python",
      "pygments_lexer": "ipython3",
      "version": "3.11.13"
    }
  },
  "nbformat": 4,
  "nbformat_minor": 2
}

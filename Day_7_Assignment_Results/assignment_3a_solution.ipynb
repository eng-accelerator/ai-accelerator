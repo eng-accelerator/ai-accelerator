{
  "cells": [
    {
      "cell_type": "markdown",
      "metadata": {},
      "source": [
        "# Assignment 3a Solution: Basic Gradio RAG Frontend\n",
        "## Day 6 Session 2 - Building Simple RAG Applications\n",
        "\n",
        "This notebook contains the complete solution for Assignment 3a.\n",
        "\n",
        "**Solution demonstrates:**\n",
        "- Complete basic Gradio interface setup\n",
        "- Proper RAG backend integration\n",
        "- Essential Gradio components and patterns\n",
        "- Button-function connections\n"
      ]
    },
    {
      "cell_type": "markdown",
      "metadata": {},
      "source": [
        "## 📚 Part 1: Setup and Imports\n",
        "\n",
        "Import all necessary libraries for building your Gradio RAG application.\n"
      ]
    },
    {
      "cell_type": "code",
      "execution_count": 1,
      "metadata": {},
      "outputs": [
        {
          "name": "stderr",
          "output_type": "stream",
          "text": [
            "/Users/ishandutta/miniconda3/envs/accelerator/lib/python3.11/site-packages/tqdm/auto.py:21: TqdmWarning: IProgress not found. Please update jupyter and ipywidgets. See https://ipywidgets.readthedocs.io/en/stable/user_install.html\n",
            "  from .autonotebook import tqdm as notebook_tqdm\n"
          ]
        },
        {
          "name": "stdout",
          "output_type": "stream",
          "text": [
            "✅ All libraries imported successfully!\n"
          ]
        }
      ],
      "source": [
        "# Import required libraries\n",
        "import gradio as gr\n",
        "import os\n",
        "from pathlib import Path\n",
        "\n",
        "# LlamaIndex components\n",
        "from llama_index.core import SimpleDirectoryReader, VectorStoreIndex, StorageContext, Settings\n",
        "from llama_index.vector_stores.lancedb import LanceDBVectorStore\n",
        "from llama_index.embeddings.huggingface import HuggingFaceEmbedding\n",
        "from llama_index.llms.openrouter import OpenRouter\n",
        "\n",
        "print(\"✅ All libraries imported successfully!\")\n"
      ]
    },
    {
      "cell_type": "markdown",
      "metadata": {},
      "source": [
        "## 🤖 Part 2: RAG Backend Class\n",
        "\n",
        "The complete RAG backend implementation (provided to students).\n"
      ]
    },
    {
      "cell_type": "code",
      "execution_count": 2,
      "metadata": {},
      "outputs": [
        {
          "name": "stdout",
          "output_type": "stream",
          "text": [
            "🚀 RAG Backend initialized and ready!\n"
          ]
        }
      ],
      "source": [
        "class SimpleRAGBackend:\n",
        "    \"\"\"Simple RAG backend for Gradio frontend.\"\"\"\n",
        "    \n",
        "    def __init__(self):\n",
        "        self.index = None\n",
        "        self.setup_settings()\n",
        "    \n",
        "    def setup_settings(self):\n",
        "        \"\"\"Configure LlamaIndex settings.\"\"\"\n",
        "        # Set up the LLM using OpenRouter\n",
        "        api_key = os.getenv(\"OPENROUTER_API_KEY\")\n",
        "        if api_key:\n",
        "            Settings.llm = OpenRouter(\n",
        "                api_key=api_key,\n",
        "                model=\"gpt-4o\",\n",
        "                temperature=0.1\n",
        "            )\n",
        "        \n",
        "        # Set up the embedding model\n",
        "        Settings.embed_model = HuggingFaceEmbedding(\n",
        "            model_name=\"BAAI/bge-small-en-v1.5\",\n",
        "            trust_remote_code=True\n",
        "        )\n",
        "        \n",
        "        # Set chunking parameters\n",
        "        Settings.chunk_size = 1024\n",
        "        Settings.chunk_overlap = 100\n",
        "    \n",
        "    def initialize_database(self, data_folder=\"../data\"):\n",
        "        \"\"\"Initialize the vector database with documents.\"\"\"\n",
        "        # Check if data folder exists\n",
        "        if not Path(data_folder).exists():\n",
        "            return f\"❌ Data folder '{data_folder}' not found!\"\n",
        "        \n",
        "        try:\n",
        "            # Create vector store\n",
        "            vector_store = LanceDBVectorStore(\n",
        "                uri=\"./basic_rag_vectordb\",\n",
        "                table_name=\"documents\"\n",
        "            )\n",
        "            \n",
        "            # Load documents\n",
        "            reader = SimpleDirectoryReader(input_dir=data_folder, recursive=True)\n",
        "            documents = reader.load_data()\n",
        "            \n",
        "            # Create storage context and index\n",
        "            storage_context = StorageContext.from_defaults(vector_store=vector_store)\n",
        "            self.index = VectorStoreIndex.from_documents(\n",
        "                documents, \n",
        "                storage_context=storage_context,\n",
        "                show_progress=True\n",
        "            )\n",
        "            \n",
        "            return f\"✅ Database initialized successfully with {len(documents)} documents!\"\n",
        "        \n",
        "        except Exception as e:\n",
        "            return f\"❌ Error initializing database: {str(e)}\"\n",
        "    \n",
        "    def query(self, question):\n",
        "        \"\"\"Query the RAG system and return response.\"\"\"\n",
        "        # Check if index exists\n",
        "        if self.index is None:\n",
        "            return \"❌ Please initialize the database first!\"\n",
        "        \n",
        "        # Check if question is empty\n",
        "        if not question or not question.strip():\n",
        "            return \"⚠️ Please enter a question first!\"\n",
        "        \n",
        "        try:\n",
        "            # Create query engine and get response\n",
        "            query_engine = self.index.as_query_engine()\n",
        "            response = query_engine.query(question)\n",
        "            return str(response)\n",
        "        \n",
        "        except Exception as e:\n",
        "            return f\"❌ Error processing query: {str(e)}\"\n",
        "\n",
        "# Initialize the backend\n",
        "rag_backend = SimpleRAGBackend()\n",
        "print(\"🚀 RAG Backend initialized and ready!\")\n"
      ]
    },
    {
      "cell_type": "markdown",
      "metadata": {},
      "source": [
        "## 🎨 Part 3: Complete Gradio Interface Solution\n",
        "\n",
        "This is the complete solution that students should implement.\n"
      ]
    },
    {
      "cell_type": "code",
      "execution_count": 3,
      "metadata": {},
      "outputs": [
        {
          "name": "stdout",
          "output_type": "stream",
          "text": [
            "✅ Basic RAG interface created successfully!\n"
          ]
        }
      ],
      "source": [
        "def create_basic_rag_interface():\n",
        "    \"\"\"Create basic RAG interface with essential features.\"\"\"\n",
        "    \n",
        "    def initialize_db():\n",
        "        \"\"\"Handle database initialization.\"\"\"\n",
        "        return rag_backend.initialize_database()\n",
        "    \n",
        "    def handle_query(question):\n",
        "        \"\"\"Handle user queries.\"\"\"\n",
        "        return rag_backend.query(question)\n",
        "    \n",
        "    # Create Gradio interface using gr.Blocks()\n",
        "    with gr.Blocks(title=\"Basic RAG Assistant\") as interface:\n",
        "        # Add title and description\n",
        "        gr.Markdown(\"# 🤖 Basic RAG Assistant\")\n",
        "        gr.Markdown(\"Initialize the database and ask questions about your documents!\")\n",
        "        \n",
        "        # Add initialization section\n",
        "        init_btn = gr.Button(\"🔄 Initialize Database\", variant=\"primary\")\n",
        "        status_output = gr.Textbox(label=\"Status\", lines=2, interactive=False)\n",
        "        \n",
        "        # Add query section\n",
        "        query_input = gr.Textbox(\n",
        "            label=\"Ask a question\", \n",
        "            placeholder=\"What would you like to know?\", \n",
        "            lines=2\n",
        "        )\n",
        "        submit_btn = gr.Button(\"🚀 Ask Question\", variant=\"primary\")\n",
        "        response_output = gr.Textbox(label=\"AI Response\", lines=10, interactive=False)\n",
        "        \n",
        "        # Connect buttons to functions\n",
        "        init_btn.click(initialize_db, outputs=[status_output])\n",
        "        submit_btn.click(handle_query, inputs=[query_input], outputs=[response_output])\n",
        "    \n",
        "    return interface\n",
        "\n",
        "# Create the interface\n",
        "basic_interface = create_basic_rag_interface()\n",
        "print(\"✅ Basic RAG interface created successfully!\")\n"
      ]
    },
    {
      "cell_type": "markdown",
      "metadata": {},
      "source": [
        "## 🚀 Part 4: Launch the Application\n",
        "\n",
        "Launch your Gradio application!\n"
      ]
    },
    {
      "cell_type": "code",
      "execution_count": null,
      "metadata": {},
      "outputs": [
        {
          "name": "stdout",
          "output_type": "stream",
          "text": [
            "🎉 Launching your Basic RAG Assistant...\n",
            "🔗 Your application will open in a new browser tab!\n",
            "\n",
            "📋 Testing Instructions:\n",
            "1. Click 'Initialize Database' button first\n",
            "2. Wait for success message\n",
            "3. Enter a question in the query box\n",
            "4. Click 'Ask Question' to get AI response\n",
            "\n",
            "💡 Example questions to try:\n",
            "- What are the main topics in the documents?\n",
            "- Summarize the key findings\n",
            "- Explain the methodology used\n",
            "* Running on local URL:  http://127.0.0.1:7865\n",
            "* Running on public URL: https://1f56b04fd5422ab739.gradio.live\n",
            "\n",
            "This share link expires in 1 week. For free permanent hosting and GPU upgrades, run `gradio deploy` from the terminal in the working directory to deploy to Hugging Face Spaces (https://huggingface.co/spaces)\n"
          ]
        },
        {
          "data": {
            "text/html": [
              "<div><iframe src=\"https://1f56b04fd5422ab739.gradio.live\" width=\"100%\" height=\"500\" allow=\"autoplay; camera; microphone; clipboard-read; clipboard-write;\" frameborder=\"0\" allowfullscreen></iframe></div>"
            ],
            "text/plain": [
              "<IPython.core.display.HTML object>"
            ]
          },
          "metadata": {},
          "output_type": "display_data"
        },
        {
          "data": {
            "text/plain": []
          },
          "execution_count": 4,
          "metadata": {},
          "output_type": "execute_result"
        },
        {
          "name": "stderr",
          "output_type": "stream",
          "text": [
            "Table documents doesn't exist yet. Please add some data to create it.\n",
            "/Users/ishandutta/miniconda3/envs/accelerator/lib/python3.11/site-packages/whisper/transcribe.py:132: UserWarning: FP16 is not supported on CPU; using FP32 instead\n",
            "  warnings.warn(\"FP16 is not supported on CPU; using FP32 instead\")\n",
            "/Users/ishandutta/miniconda3/envs/accelerator/lib/python3.11/site-packages/whisper/transcribe.py:132: UserWarning: FP16 is not supported on CPU; using FP32 instead\n",
            "  warnings.warn(\"FP16 is not supported on CPU; using FP32 instead\")\n",
            "/Users/ishandutta/miniconda3/envs/accelerator/lib/python3.11/site-packages/whisper/transcribe.py:132: UserWarning: FP16 is not supported on CPU; using FP32 instead\n",
            "  warnings.warn(\"FP16 is not supported on CPU; using FP32 instead\")\n",
            "Parsing nodes: 100%|██████████| 42/42 [00:00<00:00, 200.72it/s]\n",
            "Generating embeddings: 100%|██████████| 55/55 [00:05<00:00, 10.58it/s]\n",
            "2025-09-21 09:36:31,861 - INFO - Create new table documents adding data.\n",
            "\u001b[90m[\u001b[0m2025-09-21T04:06:31Z \u001b[33mWARN \u001b[0m lance::dataset::write::insert\u001b[90m]\u001b[0m No existing dataset at /Users/ishandutta/Documents/code/ai-accelerator/Day_6/session_2/solutions/basic_rag_vectordb/documents.lance, it will be created\n",
            "2025-09-21 09:36:37,475 - INFO - query_type :, vector\n",
            "2025-09-21 09:36:40,422 - INFO - HTTP Request: POST https://openrouter.ai/api/v1/chat/completions \"HTTP/1.1 200 OK\"\n",
            "/Users/ishandutta/miniconda3/envs/accelerator/lib/python3.11/site-packages/whisper/transcribe.py:132: UserWarning: FP16 is not supported on CPU; using FP32 instead\n",
            "  warnings.warn(\"FP16 is not supported on CPU; using FP32 instead\")\n",
            "huggingface/tokenizers: The current process just got forked, after parallelism has already been used. Disabling parallelism to avoid deadlocks...\n",
            "To disable this warning, you can either:\n",
            "\t- Avoid using `tokenizers` before the fork if possible\n",
            "\t- Explicitly set the environment variable TOKENIZERS_PARALLELISM=(true | false)\n",
            "/Users/ishandutta/miniconda3/envs/accelerator/lib/python3.11/site-packages/whisper/transcribe.py:132: UserWarning: FP16 is not supported on CPU; using FP32 instead\n",
            "  warnings.warn(\"FP16 is not supported on CPU; using FP32 instead\")\n",
            "huggingface/tokenizers: The current process just got forked, after parallelism has already been used. Disabling parallelism to avoid deadlocks...\n",
            "To disable this warning, you can either:\n",
            "\t- Avoid using `tokenizers` before the fork if possible\n",
            "\t- Explicitly set the environment variable TOKENIZERS_PARALLELISM=(true | false)\n",
            "/Users/ishandutta/miniconda3/envs/accelerator/lib/python3.11/site-packages/whisper/transcribe.py:132: UserWarning: FP16 is not supported on CPU; using FP32 instead\n",
            "  warnings.warn(\"FP16 is not supported on CPU; using FP32 instead\")\n",
            "huggingface/tokenizers: The current process just got forked, after parallelism has already been used. Disabling parallelism to avoid deadlocks...\n",
            "To disable this warning, you can either:\n",
            "\t- Avoid using `tokenizers` before the fork if possible\n",
            "\t- Explicitly set the environment variable TOKENIZERS_PARALLELISM=(true | false)\n",
            "Parsing nodes: 100%|██████████| 42/42 [00:00<00:00, 702.21it/s]\n",
            "Generating embeddings: 100%|██████████| 55/55 [00:04<00:00, 12.22it/s]\n"
          ]
        }
      ],
      "source": [
        "print(\"🎉 Launching your Basic RAG Assistant...\")\n",
        "print(\"🔗 Your application will open in a new browser tab!\")\n",
        "print(\"\")\n",
        "print(\"📋 Testing Instructions:\")\n",
        "print(\"1. Click 'Initialize Database' button first\")\n",
        "print(\"2. Wait for success message\")\n",
        "print(\"3. Enter a question in the query box\")\n",
        "print(\"4. Click 'Ask Question' to get AI response\")\n",
        "print(\"\")\n",
        "print(\"💡 Example questions to try:\")\n",
        "print(\"- What are the main topics in the documents?\")\n",
        "print(\"- Summarize the key findings\")\n",
        "print(\"- Explain the methodology used\")\n",
        "\n",
        "# Launch the interface\n",
        "basic_interface.launch(share=True)\n"
      ]
    },
    {
      "cell_type": "markdown",
      "metadata": {},
      "source": [
        "## 🎓 Solution Explanation\n",
        "\n",
        "### Key Components Used\n",
        "\n",
        "1. **gr.Blocks()**: Creates a custom layout container\n",
        "2. **gr.Markdown()**: Adds formatted text titles and descriptions\n",
        "3. **gr.Button()**: Creates interactive buttons with optional styling\n",
        "4. **gr.Textbox()**: Creates text input/output areas with customization options\n",
        "5. **button.click()**: Connects buttons to Python functions\n",
        "\n",
        "### Important Parameters\n",
        "\n",
        "- **variant=\"primary\"**: Makes buttons stand out with primary styling\n",
        "- **lines=N**: Sets the height of textboxes\n",
        "- **interactive=False**: Makes textboxes read-only for output\n",
        "- **placeholder**: Adds hint text to input fields\n",
        "- **label**: Adds descriptive labels to components\n",
        "\n",
        "### Function Connection Pattern\n",
        "\n",
        "```python\n",
        "# Pattern: button.click(function_name, inputs=[input_components], outputs=[output_components])\n",
        "init_btn.click(initialize_db, outputs=[status_output])\n",
        "submit_btn.click(handle_query, inputs=[query_input], outputs=[response_output])\n",
        "```\n",
        "\n",
        "### Best Practices Demonstrated\n",
        "\n",
        "1. Clear visual hierarchy with titles and sections\n",
        "2. Descriptive labels and placeholder text\n",
        "3. Appropriate component sizes (lines parameter)\n",
        "4. Read-only outputs to prevent user editing\n",
        "5. Visual feedback with button variants\n",
        "6. Logical workflow: initialize → query → response\n"
      ]
    }
  ],
  "metadata": {
    "kernelspec": {
      "display_name": "accelerator",
      "language": "python",
      "name": "python3"
    },
    "language_info": {
      "codemirror_mode": {
        "name": "ipython",
        "version": 3
      },
      "file_extension": ".py",
      "mimetype": "text/x-python",
      "name": "python",
      "nbconvert_exporter": "python",
      "pygments_lexer": "ipython3",
      "version": "3.11.13"
    }
  },
  "nbformat": 4,
  "nbformat_minor": 2
}
